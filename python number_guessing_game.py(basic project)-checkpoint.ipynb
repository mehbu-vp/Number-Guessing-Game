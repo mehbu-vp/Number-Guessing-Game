{
 "cells": [
  {
   "cell_type": "markdown",
   "id": "1f52a286",
   "metadata": {},
   "source": [
    "# Number Guessing Game"
   ]
  },
  {
   "cell_type": "raw",
   "id": "ace0ac15",
   "metadata": {},
   "source": [
    "#Introduction\n",
    "The \"Number Guessing Game\" is a simple Python program where the computer selects a random number between 1 and 100, and the player needs to guess that number. The player continues to guess until they get the correct number. After each guess, the program provides feedback on whether the guess is too high or too low.\n",
    "\n",
    "The game also keeps track of the number of attempts the player has made. Once the player guesses the correct number, the program congratulates them and displays the number of attempts it took to guess correctly.\n",
    "\n",
    "If the player wants to play again, they can choose to do so. The game will generate a new random number for them to guess."
   ]
  },
  {
   "cell_type": "code",
   "execution_count": 1,
   "id": "938e5fbd",
   "metadata": {},
   "outputs": [
    {
     "name": "stdout",
     "output_type": "stream",
     "text": [
      "Welcome to the Number Guessing Game!\n",
      "Guess the number (between 1 and 100): 50\n",
      "Too low! Try a higher number.\n",
      "Guess the number (between 1 and 100): 80\n",
      "Too low! Try a higher number.\n",
      "Guess the number (between 1 and 100): 90\n",
      "Too low! Try a higher number.\n",
      "Guess the number (between 1 and 100): 99\n",
      "Too high! Try a lower number.\n",
      "Guess the number (between 1 and 100): 83\n",
      "Too low! Try a higher number.\n",
      "Guess the number (between 1 and 100): 89\n",
      "Too low! Try a higher number.\n",
      "Guess the number (between 1 and 100): 95\n",
      "Too low! Try a higher number.\n",
      "Guess the number (between 1 and 100): 96\n",
      "Too low! Try a higher number.\n",
      "Guess the number (between 1 and 100): 98\n",
      "Congratulations! You've guessed the number 98 in 9 attempts!\n",
      "Do you want to play again? (yes/no): yes\n",
      "Guess the number (between 1 and 100): 75\n",
      "Too low! Try a higher number.\n",
      "Guess the number (between 1 and 100): 85\n",
      "Too high! Try a lower number.\n",
      "Guess the number (between 1 and 100): 70\n",
      "Too low! Try a higher number.\n",
      "Guess the number (between 1 and 100): 80\n",
      "Too low! Try a higher number.\n",
      "Guess the number (between 1 and 100): 81\n",
      "Too low! Try a higher number.\n",
      "Guess the number (between 1 and 100): 84\n",
      "Too high! Try a lower number.\n",
      "Guess the number (between 1 and 100): 83\n",
      "Too high! Try a lower number.\n",
      "Guess the number (between 1 and 100): 82\n",
      "Congratulations! You've guessed the number 82 in 8 attempts!\n",
      "Do you want to play again? (yes/no): no\n",
      "Thanks for playing!\n"
     ]
    }
   ],
   "source": [
    "import random\n",
    "\n",
    "def number_guessing_game():\n",
    "    print(\"Welcome to the Number Guessing Game!\")\n",
    "    \n",
    "    while True:\n",
    "        # Choose a random number between 1 and 100\n",
    "        secret_number = random.randint(1, 100)\n",
    "        attempts = 0\n",
    "        \n",
    "        while True:\n",
    "            try:\n",
    "                guess = int(input(\"Guess the number (between 1 and 100): \"))\n",
    "                attempts += 1\n",
    "                \n",
    "                if guess < secret_number:\n",
    "                    print(\"Too low! Try a higher number.\")\n",
    "                elif guess > secret_number:\n",
    "                    print(\"Too high! Try a lower number.\")\n",
    "                else:\n",
    "                    print(f\"Congratulations! You've guessed the number {secret_number} in {attempts} attempts!\")\n",
    "                    break\n",
    "                \n",
    "            except ValueError:\n",
    "                print(\"Invalid input. Please enter a valid number.\")\n",
    "        \n",
    "        play_again = input(\"Do you want to play again? (yes/no): \")\n",
    "        if play_again.lower() != \"yes\":\n",
    "            print(\"Thanks for playing!\")\n",
    "            break\n",
    "\n",
    "if __name__ == \"__main__\":\n",
    "    number_guessing_game()\n"
   ]
  },
  {
   "cell_type": "code",
   "execution_count": null,
   "id": "43c6384d",
   "metadata": {},
   "outputs": [],
   "source": []
  }
 ],
 "metadata": {
  "kernelspec": {
   "display_name": "Python 3 (ipykernel)",
   "language": "python",
   "name": "python3"
  },
  "language_info": {
   "codemirror_mode": {
    "name": "ipython",
    "version": 3
   },
   "file_extension": ".py",
   "mimetype": "text/x-python",
   "name": "python",
   "nbconvert_exporter": "python",
   "pygments_lexer": "ipython3",
   "version": "3.11.5"
  }
 },
 "nbformat": 4,
 "nbformat_minor": 5
}
